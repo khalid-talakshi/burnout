{
 "cells": [
  {
   "cell_type": "code",
   "execution_count": 104,
   "metadata": {},
   "outputs": [],
   "source": [
    "import fastf1\n",
    "import fastf1.core\n",
    "import fastf1.events\n",
    "import plotly.express as px\n",
    "from fastf1.plotting import get_compound_color, get_driver_color, list_compounds\n",
    "import numpy as np\n",
    "import pandas as pd\n",
    "\n",
    "telemetry_metrics = [\"Speed\", \"RPM\", \"Throttle\", \"Brake\", \"nGear\"]\n",
    "position_metrics = [\"X\", \"Y\", \"Z\", \"Time\"]"
   ]
  },
  {
   "cell_type": "code",
   "execution_count": 105,
   "metadata": {},
   "outputs": [
    {
     "name": "stderr",
     "output_type": "stream",
     "text": [
      "core           INFO \tLoading data for Bahrain Grand Prix - Race [v3.4.4]\n",
      "req            INFO \tUsing cached data for session_info\n",
      "req            INFO \tUsing cached data for driver_info\n",
      "req            INFO \tUsing cached data for session_status_data\n",
      "req            INFO \tUsing cached data for lap_count\n",
      "req            INFO \tUsing cached data for track_status_data\n",
      "req            INFO \tUsing cached data for _extended_timing_data\n",
      "req            INFO \tUsing cached data for timing_app_data\n",
      "core           INFO \tProcessing timing data...\n",
      "req            INFO \tUsing cached data for car_data\n",
      "req            INFO \tUsing cached data for position_data\n",
      "req            INFO \tUsing cached data for weather_data\n",
      "req            INFO \tUsing cached data for race_control_messages\n",
      "core           INFO \tFinished loading data for 20 drivers: ['1', '11', '55', '16', '63', '4', '44', '81', '14', '18', '24', '20', '3', '22', '23', '27', '31', '10', '77', '2']\n"
     ]
    },
    {
     "data": {
      "text/plain": [
       "2024 Season Round 1: Bahrain Grand Prix - Race"
      ]
     },
     "execution_count": 105,
     "metadata": {},
     "output_type": "execute_result"
    }
   ],
   "source": [
    "events = fastf1.get_event_schedule(year=2024)\n",
    "round = events.get_event_by_round(1)\n",
    "sessions = round.get_session('Race')\n",
    "\n",
    "sessions.load()\n",
    "\n",
    "sessions"
   ]
  },
  {
   "cell_type": "code",
   "execution_count": 106,
   "metadata": {},
   "outputs": [],
   "source": [
    "def angle_between(v1, v2):\n",
    "    dot_product = np.dot(v1, v2)\n",
    "    mag1 = np.linalg.norm(v1)\n",
    "    mag2 = np.linalg.norm(v2)\n",
    "    cos_theta = dot_product / (mag1 * mag2)\n",
    "    angle = np.arccos(cos_theta)\n",
    "    angle = np.degrees(angle)\n",
    "\n",
    "    return angle\n",
    "\n",
    "def create_vector_sets(data: fastf1.core.Telemetry):\n",
    "    data[\"dx\"] = data[\"X\"].diff()\n",
    "    data[\"dy\"] = data[\"Y\"].diff()\n",
    "    data[\"dirX\"] = [None] + [\n",
    "        data[\"X\"].iloc[i] - data[\"X\"].iloc[i - 1] for i in range(1, len(data[\"X\"]))\n",
    "    ]\n",
    "    data[\"dirY\"] = [None] + [\n",
    "        data[\"Y\"].iloc[i] - data[\"Y\"].iloc[i - 1] for i in range(1, len(data[\"Y\"]))\n",
    "    ]\n",
    "    data[\"BaseAngle\"] = [None] + [angle_between([data[\"dirX\"].iloc[1], data[\"dirY\"].iloc[1]], [data[\"dirX\"].iloc[i], data[\"dirY\"].iloc[i]]) for i in range(1, len(data[\"dirX\"]))]\n",
    "\n",
    "    data[\"DeltaBaseAngle\"] = data[\"BaseAngle\"].diff()\n",
    "\n",
    "    thetas = []\n",
    "    for i in range(2, len(data[\"dirX\"])):\n",
    "        assert len(data[\"dirX\"]) == len(data[\"dirY\"])\n",
    "        vec1 = np.array([data[\"dirX\"].iloc[i], data[\"dirY\"].iloc[i]])\n",
    "        vec2 = np.array([data[\"dirX\"].iloc[i - 1], data[\"dirY\"].iloc[i - 1]])\n",
    "\n",
    "        dot_product = np.dot(vec1, vec2)\n",
    "        mag1 = np.linalg.norm(vec1)\n",
    "        mag2 = np.linalg.norm(vec2)\n",
    "        cos_theta = dot_product / (mag1 * mag2)\n",
    "        angle = np.arccos(cos_theta)\n",
    "        angle = np.degrees(angle)\n",
    "\n",
    "        thetas.append(angle)\n",
    "\n",
    "    data[\"angles\"] = [None, None] + thetas\n",
    "\n",
    "    print(data[[\"Time\", \"X\", \"Y\", \"dirX\", \"dirY\", \"angles\", \"BaseAngle\"]])\n",
    "\n",
    "    return data"
   ]
  },
  {
   "cell_type": "code",
   "execution_count": 107,
   "metadata": {},
   "outputs": [
    {
     "name": "stderr",
     "output_type": "stream",
     "text": [
      "core        WARNING \tFailed to preserve data type for column 'X' while merging telemetry.\n",
      "core        WARNING \tFailed to preserve data type for column 'Y' while merging telemetry.\n",
      "core        WARNING \tFailed to preserve data type for column 'Z' while merging telemetry.\n"
     ]
    },
    {
     "name": "stdout",
     "output_type": "stream",
     "text": [
      "Processing lap 1.0\n",
      "Processing lap 2.0\n"
     ]
    },
    {
     "name": "stderr",
     "output_type": "stream",
     "text": [
      "core        WARNING \tFailed to preserve data type for column 'X' while merging telemetry.\n",
      "core        WARNING \tFailed to preserve data type for column 'Y' while merging telemetry.\n",
      "core        WARNING \tFailed to preserve data type for column 'Z' while merging telemetry.\n",
      "core        WARNING \tFailed to preserve data type for column 'X' while merging telemetry.\n",
      "core        WARNING \tFailed to preserve data type for column 'Y' while merging telemetry.\n",
      "core        WARNING \tFailed to preserve data type for column 'Z' while merging telemetry.\n"
     ]
    },
    {
     "name": "stdout",
     "output_type": "stream",
     "text": [
      "Processing lap 3.0\n",
      "Processing lap 4.0\n"
     ]
    },
    {
     "name": "stderr",
     "output_type": "stream",
     "text": [
      "core        WARNING \tFailed to preserve data type for column 'X' while merging telemetry.\n",
      "core        WARNING \tFailed to preserve data type for column 'Y' while merging telemetry.\n",
      "core        WARNING \tFailed to preserve data type for column 'Z' while merging telemetry.\n",
      "core        WARNING \tFailed to preserve data type for column 'X' while merging telemetry.\n",
      "core        WARNING \tFailed to preserve data type for column 'Y' while merging telemetry.\n",
      "core        WARNING \tFailed to preserve data type for column 'Z' while merging telemetry.\n"
     ]
    },
    {
     "name": "stdout",
     "output_type": "stream",
     "text": [
      "Processing lap 5.0\n",
      "Processing lap 6.0\n",
      "Processing lap 7.0\n",
      "Processing lap 8.0\n"
     ]
    },
    {
     "name": "stderr",
     "output_type": "stream",
     "text": [
      "core        WARNING \tFailed to preserve data type for column 'X' while merging telemetry.\n",
      "core        WARNING \tFailed to preserve data type for column 'Y' while merging telemetry.\n",
      "core        WARNING \tFailed to preserve data type for column 'Z' while merging telemetry.\n",
      "core        WARNING \tFailed to preserve data type for column 'X' while merging telemetry.\n",
      "core        WARNING \tFailed to preserve data type for column 'Y' while merging telemetry.\n",
      "core        WARNING \tFailed to preserve data type for column 'Z' while merging telemetry.\n"
     ]
    },
    {
     "name": "stdout",
     "output_type": "stream",
     "text": [
      "Processing lap 9.0\n",
      "Processing lap 10.0\n"
     ]
    },
    {
     "name": "stderr",
     "output_type": "stream",
     "text": [
      "core        WARNING \tFailed to preserve data type for column 'X' while merging telemetry.\n",
      "core        WARNING \tFailed to preserve data type for column 'Y' while merging telemetry.\n",
      "core        WARNING \tFailed to preserve data type for column 'Z' while merging telemetry.\n"
     ]
    },
    {
     "name": "stdout",
     "output_type": "stream",
     "text": [
      "Processing lap 11.0\n",
      "Processing lap 12.0\n",
      "Processing lap 13.0\n"
     ]
    },
    {
     "name": "stderr",
     "output_type": "stream",
     "text": [
      "core        WARNING \tFailed to preserve data type for column 'X' while merging telemetry.\n",
      "core        WARNING \tFailed to preserve data type for column 'Y' while merging telemetry.\n",
      "core        WARNING \tFailed to preserve data type for column 'Z' while merging telemetry.\n",
      "core        WARNING \tFailed to preserve data type for column 'X' while merging telemetry.\n",
      "core        WARNING \tFailed to preserve data type for column 'Y' while merging telemetry.\n",
      "core        WARNING \tFailed to preserve data type for column 'Z' while merging telemetry.\n"
     ]
    },
    {
     "name": "stdout",
     "output_type": "stream",
     "text": [
      "Processing lap 14.0\n",
      "Processing lap 15.0\n"
     ]
    },
    {
     "name": "stderr",
     "output_type": "stream",
     "text": [
      "core        WARNING \tFailed to preserve data type for column 'X' while merging telemetry.\n",
      "core        WARNING \tFailed to preserve data type for column 'Y' while merging telemetry.\n",
      "core        WARNING \tFailed to preserve data type for column 'Z' while merging telemetry.\n"
     ]
    },
    {
     "name": "stdout",
     "output_type": "stream",
     "text": [
      "Processing lap 16.0\n",
      "Processing lap 19.0\n"
     ]
    },
    {
     "name": "stderr",
     "output_type": "stream",
     "text": [
      "core        WARNING \tFailed to preserve data type for column 'X' while merging telemetry.\n",
      "core        WARNING \tFailed to preserve data type for column 'Y' while merging telemetry.\n",
      "core        WARNING \tFailed to preserve data type for column 'Z' while merging telemetry.\n",
      "core        WARNING \tFailed to preserve data type for column 'X' while merging telemetry.\n",
      "core        WARNING \tFailed to preserve data type for column 'Y' while merging telemetry.\n",
      "core        WARNING \tFailed to preserve data type for column 'Z' while merging telemetry.\n"
     ]
    },
    {
     "name": "stdout",
     "output_type": "stream",
     "text": [
      "Processing lap 20.0\n",
      "Processing lap 21.0\n",
      "Processing lap 22.0\n",
      "Processing lap 23.0\n"
     ]
    },
    {
     "name": "stderr",
     "output_type": "stream",
     "text": [
      "core        WARNING \tFailed to preserve data type for column 'X' while merging telemetry.\n",
      "core        WARNING \tFailed to preserve data type for column 'Y' while merging telemetry.\n",
      "core        WARNING \tFailed to preserve data type for column 'Z' while merging telemetry.\n"
     ]
    },
    {
     "name": "stdout",
     "output_type": "stream",
     "text": [
      "Processing lap 24.0\n",
      "Processing lap 25.0\n"
     ]
    },
    {
     "name": "stderr",
     "output_type": "stream",
     "text": [
      "core        WARNING \tFailed to preserve data type for column 'X' while merging telemetry.\n",
      "core        WARNING \tFailed to preserve data type for column 'Y' while merging telemetry.\n",
      "core        WARNING \tFailed to preserve data type for column 'Z' while merging telemetry.\n"
     ]
    },
    {
     "name": "stdout",
     "output_type": "stream",
     "text": [
      "Processing lap 26.0\n",
      "Processing lap 27.0\n"
     ]
    },
    {
     "name": "stderr",
     "output_type": "stream",
     "text": [
      "core        WARNING \tFailed to preserve data type for column 'X' while merging telemetry.\n",
      "core        WARNING \tFailed to preserve data type for column 'Y' while merging telemetry.\n",
      "core        WARNING \tFailed to preserve data type for column 'Z' while merging telemetry.\n"
     ]
    },
    {
     "name": "stdout",
     "output_type": "stream",
     "text": [
      "Processing lap 28.0\n",
      "Processing lap 29.0\n"
     ]
    },
    {
     "name": "stderr",
     "output_type": "stream",
     "text": [
      "core        WARNING \tFailed to preserve data type for column 'X' while merging telemetry.\n",
      "core        WARNING \tFailed to preserve data type for column 'Y' while merging telemetry.\n",
      "core        WARNING \tFailed to preserve data type for column 'Z' while merging telemetry.\n"
     ]
    },
    {
     "name": "stdout",
     "output_type": "stream",
     "text": [
      "Processing lap 30.0\n",
      "Processing lap 31.0\n"
     ]
    },
    {
     "name": "stderr",
     "output_type": "stream",
     "text": [
      "core        WARNING \tFailed to preserve data type for column 'X' while merging telemetry.\n",
      "core        WARNING \tFailed to preserve data type for column 'Y' while merging telemetry.\n",
      "core        WARNING \tFailed to preserve data type for column 'Z' while merging telemetry.\n",
      "core        WARNING \tFailed to preserve data type for column 'X' while merging telemetry.\n",
      "core        WARNING \tFailed to preserve data type for column 'Y' while merging telemetry.\n",
      "core        WARNING \tFailed to preserve data type for column 'Z' while merging telemetry.\n"
     ]
    },
    {
     "name": "stdout",
     "output_type": "stream",
     "text": [
      "Processing lap 32.0\n",
      "Processing lap 33.0\n",
      "Processing lap 34.0\n"
     ]
    },
    {
     "name": "stderr",
     "output_type": "stream",
     "text": [
      "core        WARNING \tFailed to preserve data type for column 'X' while merging telemetry.\n",
      "core        WARNING \tFailed to preserve data type for column 'Y' while merging telemetry.\n",
      "core        WARNING \tFailed to preserve data type for column 'Z' while merging telemetry.\n",
      "core        WARNING \tFailed to preserve data type for column 'X' while merging telemetry.\n",
      "core        WARNING \tFailed to preserve data type for column 'Y' while merging telemetry.\n",
      "core        WARNING \tFailed to preserve data type for column 'Z' while merging telemetry.\n"
     ]
    },
    {
     "name": "stdout",
     "output_type": "stream",
     "text": [
      "Processing lap 35.0\n",
      "Processing lap 36.0\n"
     ]
    },
    {
     "name": "stderr",
     "output_type": "stream",
     "text": [
      "core        WARNING \tFailed to preserve data type for column 'X' while merging telemetry.\n",
      "core        WARNING \tFailed to preserve data type for column 'Y' while merging telemetry.\n",
      "core        WARNING \tFailed to preserve data type for column 'Z' while merging telemetry.\n"
     ]
    },
    {
     "name": "stdout",
     "output_type": "stream",
     "text": [
      "Processing lap 39.0\n",
      "Processing lap 40.0\n",
      "Processing lap 41.0\n",
      "Processing lap 42.0\n",
      "Processing lap 43.0\n",
      "Processing lap 44.0\n",
      "Processing lap 45.0\n",
      "Processing lap 46.0\n"
     ]
    },
    {
     "name": "stderr",
     "output_type": "stream",
     "text": [
      "core        WARNING \tFailed to preserve data type for column 'X' while merging telemetry.\n",
      "core        WARNING \tFailed to preserve data type for column 'Y' while merging telemetry.\n",
      "core        WARNING \tFailed to preserve data type for column 'Z' while merging telemetry.\n"
     ]
    },
    {
     "name": "stdout",
     "output_type": "stream",
     "text": [
      "Processing lap 47.0\n",
      "Processing lap 48.0\n"
     ]
    },
    {
     "name": "stderr",
     "output_type": "stream",
     "text": [
      "core        WARNING \tFailed to preserve data type for column 'X' while merging telemetry.\n",
      "core        WARNING \tFailed to preserve data type for column 'Y' while merging telemetry.\n",
      "core        WARNING \tFailed to preserve data type for column 'Z' while merging telemetry.\n"
     ]
    },
    {
     "name": "stdout",
     "output_type": "stream",
     "text": [
      "Processing lap 49.0\n",
      "Processing lap 50.0\n"
     ]
    },
    {
     "name": "stderr",
     "output_type": "stream",
     "text": [
      "core        WARNING \tFailed to preserve data type for column 'X' while merging telemetry.\n",
      "core        WARNING \tFailed to preserve data type for column 'Y' while merging telemetry.\n",
      "core        WARNING \tFailed to preserve data type for column 'Z' while merging telemetry.\n"
     ]
    },
    {
     "name": "stdout",
     "output_type": "stream",
     "text": [
      "Processing lap 51.0\n",
      "Processing lap 52.0\n"
     ]
    },
    {
     "name": "stderr",
     "output_type": "stream",
     "text": [
      "core        WARNING \tFailed to preserve data type for column 'X' while merging telemetry.\n",
      "core        WARNING \tFailed to preserve data type for column 'Y' while merging telemetry.\n",
      "core        WARNING \tFailed to preserve data type for column 'Z' while merging telemetry.\n",
      "core        WARNING \tFailed to preserve data type for column 'X' while merging telemetry.\n",
      "core        WARNING \tFailed to preserve data type for column 'Y' while merging telemetry.\n",
      "core        WARNING \tFailed to preserve data type for column 'Z' while merging telemetry.\n"
     ]
    },
    {
     "name": "stdout",
     "output_type": "stream",
     "text": [
      "Processing lap 53.0\n",
      "Processing lap 54.0\n"
     ]
    },
    {
     "name": "stderr",
     "output_type": "stream",
     "text": [
      "core        WARNING \tFailed to preserve data type for column 'X' while merging telemetry.\n",
      "core        WARNING \tFailed to preserve data type for column 'Y' while merging telemetry.\n",
      "core        WARNING \tFailed to preserve data type for column 'Z' while merging telemetry.\n",
      "core        WARNING \tFailed to preserve data type for column 'X' while merging telemetry.\n",
      "core        WARNING \tFailed to preserve data type for column 'Y' while merging telemetry.\n",
      "core        WARNING \tFailed to preserve data type for column 'Z' while merging telemetry.\n"
     ]
    },
    {
     "name": "stdout",
     "output_type": "stream",
     "text": [
      "Processing lap 55.0\n",
      "Processing lap 56.0\n",
      "Processing lap 57.0\n"
     ]
    }
   ],
   "source": [
    "car_data = sessions.laps.pick_drivers('VER').pick_wo_box()\n",
    "final_frame = None\n",
    "for lap_tup in car_data.iterlaps():\n",
    "    lap = lap_tup[1]\n",
    "    lap_num = lap[\"LapNumber\"]\n",
    "    print(f\"Processing lap {lap_num}\")\n",
    "    telemetry = lap.get_telemetry()\n",
    "    telemetry[\"LapNumber\"] = lap_num\n",
    "    final_frame = telemetry if final_frame is None else pd.concat([final_frame, telemetry])"
   ]
  },
  {
   "cell_type": "code",
   "execution_count": 108,
   "metadata": {},
   "outputs": [
    {
     "name": "stderr",
     "output_type": "stream",
     "text": [
      "/var/folders/7v/5sz92nkn6s13fvy6c8bz7_sm0000gn/T/ipykernel_26709/1897838449.py:5: SettingWithCopyWarning:\n",
      "\n",
      "\n",
      "A value is trying to be set on a copy of a slice from a DataFrame.\n",
      "Try using .loc[row_indexer,col_indexer] = value instead\n",
      "\n",
      "See the caveats in the documentation: https://pandas.pydata.org/pandas-docs/stable/user_guide/indexing.html#returning-a-view-versus-a-copy\n",
      "\n",
      "/var/folders/7v/5sz92nkn6s13fvy6c8bz7_sm0000gn/T/ipykernel_26709/612045185.py:12: SettingWithCopyWarning:\n",
      "\n",
      "\n",
      "A value is trying to be set on a copy of a slice from a DataFrame.\n",
      "Try using .loc[row_indexer,col_indexer] = value instead\n",
      "\n",
      "See the caveats in the documentation: https://pandas.pydata.org/pandas-docs/stable/user_guide/indexing.html#returning-a-view-versus-a-copy\n",
      "\n",
      "/var/folders/7v/5sz92nkn6s13fvy6c8bz7_sm0000gn/T/ipykernel_26709/612045185.py:13: SettingWithCopyWarning:\n",
      "\n",
      "\n",
      "A value is trying to be set on a copy of a slice from a DataFrame.\n",
      "Try using .loc[row_indexer,col_indexer] = value instead\n",
      "\n",
      "See the caveats in the documentation: https://pandas.pydata.org/pandas-docs/stable/user_guide/indexing.html#returning-a-view-versus-a-copy\n",
      "\n",
      "/var/folders/7v/5sz92nkn6s13fvy6c8bz7_sm0000gn/T/ipykernel_26709/612045185.py:14: SettingWithCopyWarning:\n",
      "\n",
      "\n",
      "A value is trying to be set on a copy of a slice from a DataFrame.\n",
      "Try using .loc[row_indexer,col_indexer] = value instead\n",
      "\n",
      "See the caveats in the documentation: https://pandas.pydata.org/pandas-docs/stable/user_guide/indexing.html#returning-a-view-versus-a-copy\n",
      "\n",
      "/var/folders/7v/5sz92nkn6s13fvy6c8bz7_sm0000gn/T/ipykernel_26709/612045185.py:17: SettingWithCopyWarning:\n",
      "\n",
      "\n",
      "A value is trying to be set on a copy of a slice from a DataFrame.\n",
      "Try using .loc[row_indexer,col_indexer] = value instead\n",
      "\n",
      "See the caveats in the documentation: https://pandas.pydata.org/pandas-docs/stable/user_guide/indexing.html#returning-a-view-versus-a-copy\n",
      "\n",
      "/var/folders/7v/5sz92nkn6s13fvy6c8bz7_sm0000gn/T/ipykernel_26709/612045185.py:20: SettingWithCopyWarning:\n",
      "\n",
      "\n",
      "A value is trying to be set on a copy of a slice from a DataFrame.\n",
      "Try using .loc[row_indexer,col_indexer] = value instead\n",
      "\n",
      "See the caveats in the documentation: https://pandas.pydata.org/pandas-docs/stable/user_guide/indexing.html#returning-a-view-versus-a-copy\n",
      "\n",
      "/var/folders/7v/5sz92nkn6s13fvy6c8bz7_sm0000gn/T/ipykernel_26709/612045185.py:22: SettingWithCopyWarning:\n",
      "\n",
      "\n",
      "A value is trying to be set on a copy of a slice from a DataFrame.\n",
      "Try using .loc[row_indexer,col_indexer] = value instead\n",
      "\n",
      "See the caveats in the documentation: https://pandas.pydata.org/pandas-docs/stable/user_guide/indexing.html#returning-a-view-versus-a-copy\n",
      "\n",
      "/var/folders/7v/5sz92nkn6s13fvy6c8bz7_sm0000gn/T/ipykernel_26709/612045185.py:34: RuntimeWarning:\n",
      "\n",
      "invalid value encountered in arccos\n",
      "\n",
      "/var/folders/7v/5sz92nkn6s13fvy6c8bz7_sm0000gn/T/ipykernel_26709/612045185.py:39: SettingWithCopyWarning:\n",
      "\n",
      "\n",
      "A value is trying to be set on a copy of a slice from a DataFrame.\n",
      "Try using .loc[row_indexer,col_indexer] = value instead\n",
      "\n",
      "See the caveats in the documentation: https://pandas.pydata.org/pandas-docs/stable/user_guide/indexing.html#returning-a-view-versus-a-copy\n",
      "\n"
     ]
    },
    {
     "name": "stdout",
     "output_type": "stream",
     "text": [
      "       Time           X            Y       dirX        dirY      angles  \\\n",
      "3     0.048 -279.999056  3550.083823        NaN         NaN         NaN   \n",
      "5     0.288 -280.004222  3549.625202  -0.005166   -0.458621         NaN   \n",
      "7     0.528 -279.965389  3553.072657   0.038833    3.447455  179.999999   \n",
      "9     0.768 -280.064521  3560.216660  -0.099133    7.144003    1.440369   \n",
      "10    0.928 -280.314612  3565.704150  -0.250091    5.487490    1.814430   \n",
      "..      ...         ...          ...        ...         ...         ...   \n",
      "711  93.690 -424.000000   407.000000  15.000000  281.000000    0.038465   \n",
      "713  93.930 -416.000000   536.000000   8.000000  129.000000    0.493089   \n",
      "715  94.090 -412.000000   628.000000   4.000000   92.000000    1.059129   \n",
      "717  94.330 -402.000000   815.000000  10.000000  187.000000    0.571477   \n",
      "719  94.610 -389.000000  1081.000000  13.000000  266.000000    0.263086   \n",
      "\n",
      "      BaseAngle  \n",
      "3           NaN  \n",
      "5      0.000000  \n",
      "7    179.999999  \n",
      "9    178.559631  \n",
      "10   176.745201  \n",
      "..          ...  \n",
      "711  177.589772  \n",
      "713  177.096683  \n",
      "715  178.155812  \n",
      "717  177.584335  \n",
      "719  177.847422  \n",
      "\n",
      "[18831 rows x 7 columns]\n"
     ]
    },
    {
     "data": {
      "text/html": [
       "<div>\n",
       "<style scoped>\n",
       "    .dataframe tbody tr th:only-of-type {\n",
       "        vertical-align: middle;\n",
       "    }\n",
       "\n",
       "    .dataframe tbody tr th {\n",
       "        vertical-align: top;\n",
       "    }\n",
       "\n",
       "    .dataframe thead th {\n",
       "        text-align: right;\n",
       "    }\n",
       "</style>\n",
       "<table border=\"1\" class=\"dataframe\">\n",
       "  <thead>\n",
       "    <tr style=\"text-align: right;\">\n",
       "      <th></th>\n",
       "      <th>Speed</th>\n",
       "      <th>RPM</th>\n",
       "      <th>Throttle</th>\n",
       "      <th>Brake</th>\n",
       "      <th>nGear</th>\n",
       "      <th>X</th>\n",
       "      <th>Y</th>\n",
       "      <th>Z</th>\n",
       "      <th>Time</th>\n",
       "      <th>LapNumber</th>\n",
       "      <th>Source</th>\n",
       "      <th>dx</th>\n",
       "      <th>dy</th>\n",
       "      <th>dirX</th>\n",
       "      <th>dirY</th>\n",
       "      <th>BaseAngle</th>\n",
       "      <th>DeltaBaseAngle</th>\n",
       "      <th>angles</th>\n",
       "    </tr>\n",
       "  </thead>\n",
       "  <tbody>\n",
       "    <tr>\n",
       "      <th>5</th>\n",
       "      <td>281</td>\n",
       "      <td>11150</td>\n",
       "      <td>100</td>\n",
       "      <td>False</td>\n",
       "      <td>7</td>\n",
       "      <td>-376.0</td>\n",
       "      <td>1357.0</td>\n",
       "      <td>-158.0</td>\n",
       "      <td>0.085</td>\n",
       "      <td>19.0</td>\n",
       "      <td>car</td>\n",
       "      <td>7.332498</td>\n",
       "      <td>148.790698</td>\n",
       "      <td>7.332498</td>\n",
       "      <td>148.790698</td>\n",
       "      <td>177.824076</td>\n",
       "      <td>0.067717</td>\n",
       "      <td>0.067717</td>\n",
       "    </tr>\n",
       "    <tr>\n",
       "      <th>7</th>\n",
       "      <td>283</td>\n",
       "      <td>11223</td>\n",
       "      <td>100</td>\n",
       "      <td>False</td>\n",
       "      <td>7</td>\n",
       "      <td>-366.0</td>\n",
       "      <td>1559.0</td>\n",
       "      <td>-159.0</td>\n",
       "      <td>0.365</td>\n",
       "      <td>19.0</td>\n",
       "      <td>car</td>\n",
       "      <td>10.000000</td>\n",
       "      <td>202.000000</td>\n",
       "      <td>10.000000</td>\n",
       "      <td>202.000000</td>\n",
       "      <td>177.811254</td>\n",
       "      <td>-0.012822</td>\n",
       "      <td>0.012822</td>\n",
       "    </tr>\n",
       "    <tr>\n",
       "      <th>9</th>\n",
       "      <td>284</td>\n",
       "      <td>11275</td>\n",
       "      <td>100</td>\n",
       "      <td>False</td>\n",
       "      <td>7</td>\n",
       "      <td>-357.0</td>\n",
       "      <td>1748.0</td>\n",
       "      <td>-158.0</td>\n",
       "      <td>0.605</td>\n",
       "      <td>19.0</td>\n",
       "      <td>car</td>\n",
       "      <td>9.000000</td>\n",
       "      <td>189.000000</td>\n",
       "      <td>9.000000</td>\n",
       "      <td>189.000000</td>\n",
       "      <td>177.919054</td>\n",
       "      <td>0.107800</td>\n",
       "      <td>0.107800</td>\n",
       "    </tr>\n",
       "    <tr>\n",
       "      <th>11</th>\n",
       "      <td>287</td>\n",
       "      <td>11303</td>\n",
       "      <td>100</td>\n",
       "      <td>False</td>\n",
       "      <td>7</td>\n",
       "      <td>-345.0</td>\n",
       "      <td>2041.0</td>\n",
       "      <td>-159.0</td>\n",
       "      <td>0.925</td>\n",
       "      <td>19.0</td>\n",
       "      <td>car</td>\n",
       "      <td>12.000000</td>\n",
       "      <td>293.000000</td>\n",
       "      <td>12.000000</td>\n",
       "      <td>293.000000</td>\n",
       "      <td>178.300091</td>\n",
       "      <td>0.381037</td>\n",
       "      <td>0.381037</td>\n",
       "    </tr>\n",
       "    <tr>\n",
       "      <th>14</th>\n",
       "      <td>288</td>\n",
       "      <td>11413</td>\n",
       "      <td>100</td>\n",
       "      <td>False</td>\n",
       "      <td>7</td>\n",
       "      <td>-335.0</td>\n",
       "      <td>2316.0</td>\n",
       "      <td>-159.0</td>\n",
       "      <td>1.325</td>\n",
       "      <td>19.0</td>\n",
       "      <td>car</td>\n",
       "      <td>10.000000</td>\n",
       "      <td>275.000000</td>\n",
       "      <td>10.000000</td>\n",
       "      <td>275.000000</td>\n",
       "      <td>178.562800</td>\n",
       "      <td>0.262709</td>\n",
       "      <td>0.262709</td>\n",
       "    </tr>\n",
       "    <tr>\n",
       "      <th>...</th>\n",
       "      <td>...</td>\n",
       "      <td>...</td>\n",
       "      <td>...</td>\n",
       "      <td>...</td>\n",
       "      <td>...</td>\n",
       "      <td>...</td>\n",
       "      <td>...</td>\n",
       "      <td>...</td>\n",
       "      <td>...</td>\n",
       "      <td>...</td>\n",
       "      <td>...</td>\n",
       "      <td>...</td>\n",
       "      <td>...</td>\n",
       "      <td>...</td>\n",
       "      <td>...</td>\n",
       "      <td>...</td>\n",
       "      <td>...</td>\n",
       "      <td>...</td>\n",
       "    </tr>\n",
       "    <tr>\n",
       "      <th>722</th>\n",
       "      <td>270</td>\n",
       "      <td>10790</td>\n",
       "      <td>100</td>\n",
       "      <td>False</td>\n",
       "      <td>7</td>\n",
       "      <td>-430.0</td>\n",
       "      <td>283.0</td>\n",
       "      <td>-159.0</td>\n",
       "      <td>93.925</td>\n",
       "      <td>19.0</td>\n",
       "      <td>car</td>\n",
       "      <td>16.000000</td>\n",
       "      <td>301.000000</td>\n",
       "      <td>16.000000</td>\n",
       "      <td>301.000000</td>\n",
       "      <td>177.602606</td>\n",
       "      <td>-0.086448</td>\n",
       "      <td>0.086448</td>\n",
       "    </tr>\n",
       "    <tr>\n",
       "      <th>723</th>\n",
       "      <td>271</td>\n",
       "      <td>10806</td>\n",
       "      <td>100</td>\n",
       "      <td>False</td>\n",
       "      <td>7</td>\n",
       "      <td>-426.0</td>\n",
       "      <td>368.0</td>\n",
       "      <td>-159.0</td>\n",
       "      <td>94.085</td>\n",
       "      <td>19.0</td>\n",
       "      <td>car</td>\n",
       "      <td>4.000000</td>\n",
       "      <td>85.000000</td>\n",
       "      <td>4.000000</td>\n",
       "      <td>85.000000</td>\n",
       "      <td>177.951081</td>\n",
       "      <td>0.348475</td>\n",
       "      <td>0.348475</td>\n",
       "    </tr>\n",
       "    <tr>\n",
       "      <th>725</th>\n",
       "      <td>274</td>\n",
       "      <td>10913</td>\n",
       "      <td>100</td>\n",
       "      <td>False</td>\n",
       "      <td>7</td>\n",
       "      <td>-414.0</td>\n",
       "      <td>596.0</td>\n",
       "      <td>-158.0</td>\n",
       "      <td>94.405</td>\n",
       "      <td>19.0</td>\n",
       "      <td>car</td>\n",
       "      <td>12.000000</td>\n",
       "      <td>228.000000</td>\n",
       "      <td>12.000000</td>\n",
       "      <td>228.000000</td>\n",
       "      <td>177.632578</td>\n",
       "      <td>-0.318503</td>\n",
       "      <td>0.318503</td>\n",
       "    </tr>\n",
       "    <tr>\n",
       "      <th>727</th>\n",
       "      <td>276</td>\n",
       "      <td>11002</td>\n",
       "      <td>100</td>\n",
       "      <td>False</td>\n",
       "      <td>7</td>\n",
       "      <td>-403.0</td>\n",
       "      <td>814.0</td>\n",
       "      <td>-159.0</td>\n",
       "      <td>94.685</td>\n",
       "      <td>19.0</td>\n",
       "      <td>car</td>\n",
       "      <td>11.000000</td>\n",
       "      <td>218.000000</td>\n",
       "      <td>11.000000</td>\n",
       "      <td>218.000000</td>\n",
       "      <td>177.756743</td>\n",
       "      <td>0.124166</td>\n",
       "      <td>0.124166</td>\n",
       "    </tr>\n",
       "    <tr>\n",
       "      <th>730</th>\n",
       "      <td>279</td>\n",
       "      <td>11106</td>\n",
       "      <td>100</td>\n",
       "      <td>False</td>\n",
       "      <td>7</td>\n",
       "      <td>-387.0</td>\n",
       "      <td>1124.0</td>\n",
       "      <td>-159.0</td>\n",
       "      <td>95.085</td>\n",
       "      <td>19.0</td>\n",
       "      <td>car</td>\n",
       "      <td>16.000000</td>\n",
       "      <td>310.000000</td>\n",
       "      <td>16.000000</td>\n",
       "      <td>310.000000</td>\n",
       "      <td>177.690785</td>\n",
       "      <td>-0.065958</td>\n",
       "      <td>0.065958</td>\n",
       "    </tr>\n",
       "  </tbody>\n",
       "</table>\n",
       "<p>357 rows × 18 columns</p>\n",
       "</div>"
      ],
      "text/plain": [
       "     Speed    RPM  Throttle  Brake  nGear      X       Y      Z    Time  \\\n",
       "5      281  11150       100  False      7 -376.0  1357.0 -158.0   0.085   \n",
       "7      283  11223       100  False      7 -366.0  1559.0 -159.0   0.365   \n",
       "9      284  11275       100  False      7 -357.0  1748.0 -158.0   0.605   \n",
       "11     287  11303       100  False      7 -345.0  2041.0 -159.0   0.925   \n",
       "14     288  11413       100  False      7 -335.0  2316.0 -159.0   1.325   \n",
       "..     ...    ...       ...    ...    ...    ...     ...    ...     ...   \n",
       "722    270  10790       100  False      7 -430.0   283.0 -159.0  93.925   \n",
       "723    271  10806       100  False      7 -426.0   368.0 -159.0  94.085   \n",
       "725    274  10913       100  False      7 -414.0   596.0 -158.0  94.405   \n",
       "727    276  11002       100  False      7 -403.0   814.0 -159.0  94.685   \n",
       "730    279  11106       100  False      7 -387.0  1124.0 -159.0  95.085   \n",
       "\n",
       "     LapNumber Source         dx          dy       dirX        dirY  \\\n",
       "5         19.0    car   7.332498  148.790698   7.332498  148.790698   \n",
       "7         19.0    car  10.000000  202.000000  10.000000  202.000000   \n",
       "9         19.0    car   9.000000  189.000000   9.000000  189.000000   \n",
       "11        19.0    car  12.000000  293.000000  12.000000  293.000000   \n",
       "14        19.0    car  10.000000  275.000000  10.000000  275.000000   \n",
       "..         ...    ...        ...         ...        ...         ...   \n",
       "722       19.0    car  16.000000  301.000000  16.000000  301.000000   \n",
       "723       19.0    car   4.000000   85.000000   4.000000   85.000000   \n",
       "725       19.0    car  12.000000  228.000000  12.000000  228.000000   \n",
       "727       19.0    car  11.000000  218.000000  11.000000  218.000000   \n",
       "730       19.0    car  16.000000  310.000000  16.000000  310.000000   \n",
       "\n",
       "      BaseAngle  DeltaBaseAngle    angles  \n",
       "5    177.824076        0.067717  0.067717  \n",
       "7    177.811254       -0.012822  0.012822  \n",
       "9    177.919054        0.107800  0.107800  \n",
       "11   178.300091        0.381037  0.381037  \n",
       "14   178.562800        0.262709  0.262709  \n",
       "..          ...             ...       ...  \n",
       "722  177.602606       -0.086448  0.086448  \n",
       "723  177.951081        0.348475  0.348475  \n",
       "725  177.632578       -0.318503  0.318503  \n",
       "727  177.756743        0.124166  0.124166  \n",
       "730  177.690785       -0.065958  0.065958  \n",
       "\n",
       "[357 rows x 18 columns]"
      ]
     },
     "execution_count": 108,
     "metadata": {},
     "output_type": "execute_result"
    }
   ],
   "source": [
    "\n",
    "\n",
    "final_frame\n",
    "# car_data\n",
    "\n",
    "speed_data = final_frame[[\"Speed\", \"RPM\", \"Throttle\", \"Brake\", \"nGear\", \"X\", \"Y\", \"Z\", \"Time\", \"LapNumber\", \"Source\"]]\n",
    "speed_data[\"Time\"] = speed_data[\"Time\"].apply(lambda x: x.total_seconds())\n",
    "speed_data = create_vector_sets(speed_data[speed_data[\"Source\"]== \"car\"])\n",
    "speed_data_graph = speed_data[speed_data[\"LapNumber\"] == 19]\n",
    "\n",
    "speed_data_graph\n",
    "\n"
   ]
  },
  {
   "cell_type": "code",
   "execution_count": 110,
   "metadata": {},
   "outputs": [
    {
     "ename": "ValueError",
     "evalue": "Mime type rendering requires nbformat>=4.2.0 but it is not installed",
     "output_type": "error",
     "traceback": [
      "\u001b[0;31m---------------------------------------------------------------------------\u001b[0m",
      "\u001b[0;31mValueError\u001b[0m                                Traceback (most recent call last)",
      "File \u001b[0;32m~/Documents/programming-projects/burnout/pit-wall/.venv/lib/python3.11/site-packages/IPython/core/formatters.py:984\u001b[0m, in \u001b[0;36mIPythonDisplayFormatter.__call__\u001b[0;34m(self, obj)\u001b[0m\n\u001b[1;32m    982\u001b[0m method \u001b[38;5;241m=\u001b[39m get_real_method(obj, \u001b[38;5;28mself\u001b[39m\u001b[38;5;241m.\u001b[39mprint_method)\n\u001b[1;32m    983\u001b[0m \u001b[38;5;28;01mif\u001b[39;00m method \u001b[38;5;129;01mis\u001b[39;00m \u001b[38;5;129;01mnot\u001b[39;00m \u001b[38;5;28;01mNone\u001b[39;00m:\n\u001b[0;32m--> 984\u001b[0m     \u001b[43mmethod\u001b[49m\u001b[43m(\u001b[49m\u001b[43m)\u001b[49m\n\u001b[1;32m    985\u001b[0m     \u001b[38;5;28;01mreturn\u001b[39;00m \u001b[38;5;28;01mTrue\u001b[39;00m\n",
      "File \u001b[0;32m~/Documents/programming-projects/burnout/pit-wall/.venv/lib/python3.11/site-packages/plotly/basedatatypes.py:833\u001b[0m, in \u001b[0;36mBaseFigure._ipython_display_\u001b[0;34m(self)\u001b[0m\n\u001b[1;32m    830\u001b[0m \u001b[38;5;28;01mimport\u001b[39;00m\u001b[38;5;250m \u001b[39m\u001b[38;5;21;01mplotly\u001b[39;00m\u001b[38;5;21;01m.\u001b[39;00m\u001b[38;5;21;01mio\u001b[39;00m\u001b[38;5;250m \u001b[39m\u001b[38;5;28;01mas\u001b[39;00m\u001b[38;5;250m \u001b[39m\u001b[38;5;21;01mpio\u001b[39;00m\n\u001b[1;32m    832\u001b[0m \u001b[38;5;28;01mif\u001b[39;00m pio\u001b[38;5;241m.\u001b[39mrenderers\u001b[38;5;241m.\u001b[39mrender_on_display \u001b[38;5;129;01mand\u001b[39;00m pio\u001b[38;5;241m.\u001b[39mrenderers\u001b[38;5;241m.\u001b[39mdefault:\n\u001b[0;32m--> 833\u001b[0m     \u001b[43mpio\u001b[49m\u001b[38;5;241;43m.\u001b[39;49m\u001b[43mshow\u001b[49m\u001b[43m(\u001b[49m\u001b[38;5;28;43mself\u001b[39;49m\u001b[43m)\u001b[49m\n\u001b[1;32m    834\u001b[0m \u001b[38;5;28;01melse\u001b[39;00m:\n\u001b[1;32m    835\u001b[0m     \u001b[38;5;28mprint\u001b[39m(\u001b[38;5;28mrepr\u001b[39m(\u001b[38;5;28mself\u001b[39m))\n",
      "File \u001b[0;32m~/Documents/programming-projects/burnout/pit-wall/.venv/lib/python3.11/site-packages/plotly/io/_renderers.py:425\u001b[0m, in \u001b[0;36mshow\u001b[0;34m(fig, renderer, validate, **kwargs)\u001b[0m\n\u001b[1;32m    420\u001b[0m     \u001b[38;5;28;01mraise\u001b[39;00m \u001b[38;5;167;01mValueError\u001b[39;00m(\n\u001b[1;32m    421\u001b[0m         \u001b[38;5;124m\"\u001b[39m\u001b[38;5;124mMime type rendering requires ipython but it is not installed\u001b[39m\u001b[38;5;124m\"\u001b[39m\n\u001b[1;32m    422\u001b[0m     )\n\u001b[1;32m    424\u001b[0m \u001b[38;5;28;01mif\u001b[39;00m \u001b[38;5;129;01mnot\u001b[39;00m nbformat \u001b[38;5;129;01mor\u001b[39;00m Version(nbformat\u001b[38;5;241m.\u001b[39m__version__) \u001b[38;5;241m<\u001b[39m Version(\u001b[38;5;124m\"\u001b[39m\u001b[38;5;124m4.2.0\u001b[39m\u001b[38;5;124m\"\u001b[39m):\n\u001b[0;32m--> 425\u001b[0m     \u001b[38;5;28;01mraise\u001b[39;00m \u001b[38;5;167;01mValueError\u001b[39;00m(\n\u001b[1;32m    426\u001b[0m         \u001b[38;5;124m\"\u001b[39m\u001b[38;5;124mMime type rendering requires nbformat>=4.2.0 but it is not installed\u001b[39m\u001b[38;5;124m\"\u001b[39m\n\u001b[1;32m    427\u001b[0m     )\n\u001b[1;32m    429\u001b[0m display_jupyter_version_warnings()\n\u001b[1;32m    431\u001b[0m ipython_display\u001b[38;5;241m.\u001b[39mdisplay(bundle, raw\u001b[38;5;241m=\u001b[39m\u001b[38;5;28;01mTrue\u001b[39;00m)\n",
      "\u001b[0;31mValueError\u001b[0m: Mime type rendering requires nbformat>=4.2.0 but it is not installed"
     ]
    },
    {
     "data": {
      "application/vnd.plotly.v1+json": {
       "config": {
        "plotlyServerURL": "https://plot.ly"
       },
       "data": [
        {
         "hovertemplate": "Time=%{x}<br>DeltaBaseAngle=%{y}<br>Speed=%{marker.color}<extra></extra>",
         "legendgroup": "",
         "marker": {
          "color": {
           "bdata": "GQEbARwBHwEgASABIgEiASQBJAElASUBJgEmAScBKAEoASgBKAEnASYBJQElASMBIgEhAR4BHAEIAe0A3ACyAJMAhAB9AHAAZwBjAFUAUgBLAEoARQBCAEMARgBMAFEAXQBhAGUAgQCLAI0AjwCcAKIArQC6AMEAyQDQANUA2ADfAOMA6ADvAPEA9AD0APoA/gD/AAEBBAEEAQsBDgEQAQ8BEAERARIBEgESARMBDAH3ANcAugCrAKsAkgCIAIIAfwB6AHkAeAB5AHsAewCBAIMAjgCUAKEAoQCyAMAAyADOANEA3ADeAOYA5wDqAOsA7wDjANEA0QDBAL4AugC6AMUA0gDUANUA1ADUANUA2ADbAN8A4gDoAO4A7wDmANYAxACkAJYAiQB5AGsAYQBaAFcAUgBQAEwATQBSAFYAWgBmAGwAdQCIAJcAqACsALQAvgDHAM0A1ADaAN8A5QDqAPMA+AD3AO8A5wDQAL0AsQCmAJoAigB6AHUAZgBcAFEATgBNAEgASgBMAFYAYABpAHIAgACRAJsAqACwALgAvwDFAM4A2QDfAOEA5QDtAPEA8QD6AP4AAQEGAQgBDAERARIBEwEUARQBFQEVARYBFwEWARYB/gDkANMAxQCvAKYAnwCZAJgAmgCgAKQAqwCxALYAuQDGANAA1wDaAOAA5wDuAPIA8wD3APcA+AD4APcA9wD1APQA9AD0APUA9gD2APgA+ADoANYAyACzAKcAowCYAJYAkQCMAIgAiQCKAI0AlgCeAKoAtAC/AMkA0QDaAN8A6ADsAPQA9AD8AAEBBgEKAQ0BEAETARQBFwEXARoBGgEdASABIQEhAR4BFgETAQoB5ADJAK8AmwCQAIgAgQB6AHgAdgB4AH0AhQCRAJYAngCvALoAxADNANUA3gDmAOsA8QDyAPgA+QACAQYBCAEOAQ8BEgEUARcB",
           "dtype": "i2"
          },
          "coloraxis": "coloraxis",
          "symbol": "circle"
         },
         "mode": "markers",
         "name": "",
         "orientation": "v",
         "showlegend": false,
         "type": "scatter",
         "x": {
          "bdata": "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",
          "dtype": "f8"
         },
         "xaxis": "x",
         "y": {
          "bdata": "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",
          "dtype": "f8"
         },
         "yaxis": "y"
        }
       ],
       "layout": {
        "coloraxis": {
         "colorbar": {
          "title": {
           "text": "Speed"
          }
         },
         "colorscale": [
          [
           0,
           "#0d0887"
          ],
          [
           0.1111111111111111,
           "#46039f"
          ],
          [
           0.2222222222222222,
           "#7201a8"
          ],
          [
           0.3333333333333333,
           "#9c179e"
          ],
          [
           0.4444444444444444,
           "#bd3786"
          ],
          [
           0.5555555555555556,
           "#d8576b"
          ],
          [
           0.6666666666666666,
           "#ed7953"
          ],
          [
           0.7777777777777778,
           "#fb9f3a"
          ],
          [
           0.8888888888888888,
           "#fdca26"
          ],
          [
           1,
           "#f0f921"
          ]
         ]
        },
        "legend": {
         "tracegroupgap": 0
        },
        "margin": {
         "t": 60
        },
        "paper_bgcolor": "#2D2D2D",
        "plot_bgcolor": "#2D2D2D",
        "template": {
         "data": {
          "bar": [
           {
            "error_x": {
             "color": "#2a3f5f"
            },
            "error_y": {
             "color": "#2a3f5f"
            },
            "marker": {
             "line": {
              "color": "#E5ECF6",
              "width": 0.5
             },
             "pattern": {
              "fillmode": "overlay",
              "size": 10,
              "solidity": 0.2
             }
            },
            "type": "bar"
           }
          ],
          "barpolar": [
           {
            "marker": {
             "line": {
              "color": "#E5ECF6",
              "width": 0.5
             },
             "pattern": {
              "fillmode": "overlay",
              "size": 10,
              "solidity": 0.2
             }
            },
            "type": "barpolar"
           }
          ],
          "carpet": [
           {
            "aaxis": {
             "endlinecolor": "#2a3f5f",
             "gridcolor": "white",
             "linecolor": "white",
             "minorgridcolor": "white",
             "startlinecolor": "#2a3f5f"
            },
            "baxis": {
             "endlinecolor": "#2a3f5f",
             "gridcolor": "white",
             "linecolor": "white",
             "minorgridcolor": "white",
             "startlinecolor": "#2a3f5f"
            },
            "type": "carpet"
           }
          ],
          "choropleth": [
           {
            "colorbar": {
             "outlinewidth": 0,
             "ticks": ""
            },
            "type": "choropleth"
           }
          ],
          "contour": [
           {
            "colorbar": {
             "outlinewidth": 0,
             "ticks": ""
            },
            "colorscale": [
             [
              0,
              "#0d0887"
             ],
             [
              0.1111111111111111,
              "#46039f"
             ],
             [
              0.2222222222222222,
              "#7201a8"
             ],
             [
              0.3333333333333333,
              "#9c179e"
             ],
             [
              0.4444444444444444,
              "#bd3786"
             ],
             [
              0.5555555555555556,
              "#d8576b"
             ],
             [
              0.6666666666666666,
              "#ed7953"
             ],
             [
              0.7777777777777778,
              "#fb9f3a"
             ],
             [
              0.8888888888888888,
              "#fdca26"
             ],
             [
              1,
              "#f0f921"
             ]
            ],
            "type": "contour"
           }
          ],
          "contourcarpet": [
           {
            "colorbar": {
             "outlinewidth": 0,
             "ticks": ""
            },
            "type": "contourcarpet"
           }
          ],
          "heatmap": [
           {
            "colorbar": {
             "outlinewidth": 0,
             "ticks": ""
            },
            "colorscale": [
             [
              0,
              "#0d0887"
             ],
             [
              0.1111111111111111,
              "#46039f"
             ],
             [
              0.2222222222222222,
              "#7201a8"
             ],
             [
              0.3333333333333333,
              "#9c179e"
             ],
             [
              0.4444444444444444,
              "#bd3786"
             ],
             [
              0.5555555555555556,
              "#d8576b"
             ],
             [
              0.6666666666666666,
              "#ed7953"
             ],
             [
              0.7777777777777778,
              "#fb9f3a"
             ],
             [
              0.8888888888888888,
              "#fdca26"
             ],
             [
              1,
              "#f0f921"
             ]
            ],
            "type": "heatmap"
           }
          ],
          "histogram": [
           {
            "marker": {
             "pattern": {
              "fillmode": "overlay",
              "size": 10,
              "solidity": 0.2
             }
            },
            "type": "histogram"
           }
          ],
          "histogram2d": [
           {
            "colorbar": {
             "outlinewidth": 0,
             "ticks": ""
            },
            "colorscale": [
             [
              0,
              "#0d0887"
             ],
             [
              0.1111111111111111,
              "#46039f"
             ],
             [
              0.2222222222222222,
              "#7201a8"
             ],
             [
              0.3333333333333333,
              "#9c179e"
             ],
             [
              0.4444444444444444,
              "#bd3786"
             ],
             [
              0.5555555555555556,
              "#d8576b"
             ],
             [
              0.6666666666666666,
              "#ed7953"
             ],
             [
              0.7777777777777778,
              "#fb9f3a"
             ],
             [
              0.8888888888888888,
              "#fdca26"
             ],
             [
              1,
              "#f0f921"
             ]
            ],
            "type": "histogram2d"
           }
          ],
          "histogram2dcontour": [
           {
            "colorbar": {
             "outlinewidth": 0,
             "ticks": ""
            },
            "colorscale": [
             [
              0,
              "#0d0887"
             ],
             [
              0.1111111111111111,
              "#46039f"
             ],
             [
              0.2222222222222222,
              "#7201a8"
             ],
             [
              0.3333333333333333,
              "#9c179e"
             ],
             [
              0.4444444444444444,
              "#bd3786"
             ],
             [
              0.5555555555555556,
              "#d8576b"
             ],
             [
              0.6666666666666666,
              "#ed7953"
             ],
             [
              0.7777777777777778,
              "#fb9f3a"
             ],
             [
              0.8888888888888888,
              "#fdca26"
             ],
             [
              1,
              "#f0f921"
             ]
            ],
            "type": "histogram2dcontour"
           }
          ],
          "mesh3d": [
           {
            "colorbar": {
             "outlinewidth": 0,
             "ticks": ""
            },
            "type": "mesh3d"
           }
          ],
          "parcoords": [
           {
            "line": {
             "colorbar": {
              "outlinewidth": 0,
              "ticks": ""
             }
            },
            "type": "parcoords"
           }
          ],
          "pie": [
           {
            "automargin": true,
            "type": "pie"
           }
          ],
          "scatter": [
           {
            "fillpattern": {
             "fillmode": "overlay",
             "size": 10,
             "solidity": 0.2
            },
            "type": "scatter"
           }
          ],
          "scatter3d": [
           {
            "line": {
             "colorbar": {
              "outlinewidth": 0,
              "ticks": ""
             }
            },
            "marker": {
             "colorbar": {
              "outlinewidth": 0,
              "ticks": ""
             }
            },
            "type": "scatter3d"
           }
          ],
          "scattercarpet": [
           {
            "marker": {
             "colorbar": {
              "outlinewidth": 0,
              "ticks": ""
             }
            },
            "type": "scattercarpet"
           }
          ],
          "scattergeo": [
           {
            "marker": {
             "colorbar": {
              "outlinewidth": 0,
              "ticks": ""
             }
            },
            "type": "scattergeo"
           }
          ],
          "scattergl": [
           {
            "marker": {
             "colorbar": {
              "outlinewidth": 0,
              "ticks": ""
             }
            },
            "type": "scattergl"
           }
          ],
          "scattermap": [
           {
            "marker": {
             "colorbar": {
              "outlinewidth": 0,
              "ticks": ""
             }
            },
            "type": "scattermap"
           }
          ],
          "scattermapbox": [
           {
            "marker": {
             "colorbar": {
              "outlinewidth": 0,
              "ticks": ""
             }
            },
            "type": "scattermapbox"
           }
          ],
          "scatterpolar": [
           {
            "marker": {
             "colorbar": {
              "outlinewidth": 0,
              "ticks": ""
             }
            },
            "type": "scatterpolar"
           }
          ],
          "scatterpolargl": [
           {
            "marker": {
             "colorbar": {
              "outlinewidth": 0,
              "ticks": ""
             }
            },
            "type": "scatterpolargl"
           }
          ],
          "scatterternary": [
           {
            "marker": {
             "colorbar": {
              "outlinewidth": 0,
              "ticks": ""
             }
            },
            "type": "scatterternary"
           }
          ],
          "surface": [
           {
            "colorbar": {
             "outlinewidth": 0,
             "ticks": ""
            },
            "colorscale": [
             [
              0,
              "#0d0887"
             ],
             [
              0.1111111111111111,
              "#46039f"
             ],
             [
              0.2222222222222222,
              "#7201a8"
             ],
             [
              0.3333333333333333,
              "#9c179e"
             ],
             [
              0.4444444444444444,
              "#bd3786"
             ],
             [
              0.5555555555555556,
              "#d8576b"
             ],
             [
              0.6666666666666666,
              "#ed7953"
             ],
             [
              0.7777777777777778,
              "#fb9f3a"
             ],
             [
              0.8888888888888888,
              "#fdca26"
             ],
             [
              1,
              "#f0f921"
             ]
            ],
            "type": "surface"
           }
          ],
          "table": [
           {
            "cells": {
             "fill": {
              "color": "#EBF0F8"
             },
             "line": {
              "color": "white"
             }
            },
            "header": {
             "fill": {
              "color": "#C8D4E3"
             },
             "line": {
              "color": "white"
             }
            },
            "type": "table"
           }
          ]
         },
         "layout": {
          "annotationdefaults": {
           "arrowcolor": "#2a3f5f",
           "arrowhead": 0,
           "arrowwidth": 1
          },
          "autotypenumbers": "strict",
          "coloraxis": {
           "colorbar": {
            "outlinewidth": 0,
            "ticks": ""
           }
          },
          "colorscale": {
           "diverging": [
            [
             0,
             "#8e0152"
            ],
            [
             0.1,
             "#c51b7d"
            ],
            [
             0.2,
             "#de77ae"
            ],
            [
             0.3,
             "#f1b6da"
            ],
            [
             0.4,
             "#fde0ef"
            ],
            [
             0.5,
             "#f7f7f7"
            ],
            [
             0.6,
             "#e6f5d0"
            ],
            [
             0.7,
             "#b8e186"
            ],
            [
             0.8,
             "#7fbc41"
            ],
            [
             0.9,
             "#4d9221"
            ],
            [
             1,
             "#276419"
            ]
           ],
           "sequential": [
            [
             0,
             "#0d0887"
            ],
            [
             0.1111111111111111,
             "#46039f"
            ],
            [
             0.2222222222222222,
             "#7201a8"
            ],
            [
             0.3333333333333333,
             "#9c179e"
            ],
            [
             0.4444444444444444,
             "#bd3786"
            ],
            [
             0.5555555555555556,
             "#d8576b"
            ],
            [
             0.6666666666666666,
             "#ed7953"
            ],
            [
             0.7777777777777778,
             "#fb9f3a"
            ],
            [
             0.8888888888888888,
             "#fdca26"
            ],
            [
             1,
             "#f0f921"
            ]
           ],
           "sequentialminus": [
            [
             0,
             "#0d0887"
            ],
            [
             0.1111111111111111,
             "#46039f"
            ],
            [
             0.2222222222222222,
             "#7201a8"
            ],
            [
             0.3333333333333333,
             "#9c179e"
            ],
            [
             0.4444444444444444,
             "#bd3786"
            ],
            [
             0.5555555555555556,
             "#d8576b"
            ],
            [
             0.6666666666666666,
             "#ed7953"
            ],
            [
             0.7777777777777778,
             "#fb9f3a"
            ],
            [
             0.8888888888888888,
             "#fdca26"
            ],
            [
             1,
             "#f0f921"
            ]
           ]
          },
          "colorway": [
           "#636efa",
           "#EF553B",
           "#00cc96",
           "#ab63fa",
           "#FFA15A",
           "#19d3f3",
           "#FF6692",
           "#B6E880",
           "#FF97FF",
           "#FECB52"
          ],
          "font": {
           "color": "#2a3f5f"
          },
          "geo": {
           "bgcolor": "white",
           "lakecolor": "white",
           "landcolor": "#E5ECF6",
           "showlakes": true,
           "showland": true,
           "subunitcolor": "white"
          },
          "hoverlabel": {
           "align": "left"
          },
          "hovermode": "closest",
          "mapbox": {
           "style": "light"
          },
          "paper_bgcolor": "white",
          "plot_bgcolor": "#E5ECF6",
          "polar": {
           "angularaxis": {
            "gridcolor": "white",
            "linecolor": "white",
            "ticks": ""
           },
           "bgcolor": "#E5ECF6",
           "radialaxis": {
            "gridcolor": "white",
            "linecolor": "white",
            "ticks": ""
           }
          },
          "scene": {
           "xaxis": {
            "backgroundcolor": "#E5ECF6",
            "gridcolor": "white",
            "gridwidth": 2,
            "linecolor": "white",
            "showbackground": true,
            "ticks": "",
            "zerolinecolor": "white"
           },
           "yaxis": {
            "backgroundcolor": "#E5ECF6",
            "gridcolor": "white",
            "gridwidth": 2,
            "linecolor": "white",
            "showbackground": true,
            "ticks": "",
            "zerolinecolor": "white"
           },
           "zaxis": {
            "backgroundcolor": "#E5ECF6",
            "gridcolor": "white",
            "gridwidth": 2,
            "linecolor": "white",
            "showbackground": true,
            "ticks": "",
            "zerolinecolor": "white"
           }
          },
          "shapedefaults": {
           "line": {
            "color": "#2a3f5f"
           }
          },
          "ternary": {
           "aaxis": {
            "gridcolor": "white",
            "linecolor": "white",
            "ticks": ""
           },
           "baxis": {
            "gridcolor": "white",
            "linecolor": "white",
            "ticks": ""
           },
           "bgcolor": "#E5ECF6",
           "caxis": {
            "gridcolor": "white",
            "linecolor": "white",
            "ticks": ""
           }
          },
          "title": {
           "x": 0.05
          },
          "xaxis": {
           "automargin": true,
           "gridcolor": "white",
           "linecolor": "white",
           "ticks": "",
           "title": {
            "standoff": 15
           },
           "zerolinecolor": "white",
           "zerolinewidth": 2
          },
          "yaxis": {
           "automargin": true,
           "gridcolor": "white",
           "linecolor": "white",
           "ticks": "",
           "title": {
            "standoff": 15
           },
           "zerolinecolor": "white",
           "zerolinewidth": 2
          }
         }
        },
        "xaxis": {
         "anchor": "y",
         "domain": [
          0,
          1
         ],
         "title": {
          "text": "Time"
         }
        },
        "yaxis": {
         "anchor": "x",
         "domain": [
          0,
          1
         ],
         "title": {
          "text": "DeltaBaseAngle"
         }
        }
       }
      },
      "text/html": [
       "<div>                        <script type=\"text/javascript\">window.PlotlyConfig = {MathJaxConfig: 'local'};</script>\n",
       "        <script charset=\"utf-8\" src=\"https://cdn.plot.ly/plotly-3.0.0.min.js\"></script>                <div id=\"375ab2a5-83b7-4232-9c5d-410dd7131dcc\" class=\"plotly-graph-div\" style=\"height:100%; width:100%;\"></div>            <script type=\"text/javascript\">                window.PLOTLYENV=window.PLOTLYENV || {};                                if (document.getElementById(\"375ab2a5-83b7-4232-9c5d-410dd7131dcc\")) {                    Plotly.newPlot(                        \"375ab2a5-83b7-4232-9c5d-410dd7131dcc\",                        [{\"hovertemplate\":\"Time=%{x}\\u003cbr\\u003eDeltaBaseAngle=%{y}\\u003cbr\\u003eSpeed=%{marker.color}\\u003cextra\\u003e\\u003c\\u002fextra\\u003e\",\"legendgroup\":\"\",\"marker\":{\"color\":{\"dtype\":\"i2\",\"bdata\":\"GQEbARwBHwEgASABIgEiASQBJAElASUBJgEmAScBKAEoASgBKAEnASYBJQElASMBIgEhAR4BHAEIAe0A3ACyAJMAhAB9AHAAZwBjAFUAUgBLAEoARQBCAEMARgBMAFEAXQBhAGUAgQCLAI0AjwCcAKIArQC6AMEAyQDQANUA2ADfAOMA6ADvAPEA9AD0APoA\\u002fgD\\u002fAAEBBAEEAQsBDgEQAQ8BEAERARIBEgESARMBDAH3ANcAugCrAKsAkgCIAIIAfwB6AHkAeAB5AHsAewCBAIMAjgCUAKEAoQCyAMAAyADOANEA3ADeAOYA5wDqAOsA7wDjANEA0QDBAL4AugC6AMUA0gDUANUA1ADUANUA2ADbAN8A4gDoAO4A7wDmANYAxACkAJYAiQB5AGsAYQBaAFcAUgBQAEwATQBSAFYAWgBmAGwAdQCIAJcAqACsALQAvgDHAM0A1ADaAN8A5QDqAPMA+AD3AO8A5wDQAL0AsQCmAJoAigB6AHUAZgBcAFEATgBNAEgASgBMAFYAYABpAHIAgACRAJsAqACwALgAvwDFAM4A2QDfAOEA5QDtAPEA8QD6AP4AAQEGAQgBDAERARIBEwEUARQBFQEVARYBFwEWARYB\\u002fgDkANMAxQCvAKYAnwCZAJgAmgCgAKQAqwCxALYAuQDGANAA1wDaAOAA5wDuAPIA8wD3APcA+AD4APcA9wD1APQA9AD0APUA9gD2APgA+ADoANYAyACzAKcAowCYAJYAkQCMAIgAiQCKAI0AlgCeAKoAtAC\\u002fAMkA0QDaAN8A6ADsAPQA9AD8AAEBBgEKAQ0BEAETARQBFwEXARoBGgEdASABIQEhAR4BFgETAQoB5ADJAK8AmwCQAIgAgQB6AHgAdgB4AH0AhQCRAJYAngCvALoAxADNANUA3gDmAOsA8QDyAPgA+QACAQYBCAEOAQ8BEgEUARcB\"},\"coloraxis\":\"coloraxis\",\"symbol\":\"circle\"},\"mode\":\"markers\",\"name\":\"\",\"orientation\":\"v\",\"showlegend\":false,\"x\":{\"dtype\":\"f8\",\"bdata\":\"w\\u002fUoXI\\u002fCtT9cj8L1KFzXP1yPwvUoXOM\\u002fmpmZmZmZ7T8zMzMzMzP1P8L1KFyPwvc\\u002fUrgehetR+j+F61G4HoX9P6RwPQrXowFAj8L1KFyPA0B7FK5H4XoFQBSuR+F6FAdA9ihcj8L1CUCF61G4HoUMQBSuR+F6FA9AKVyPwvWoEEDNzMzMzEwRQML1KFyPQhJAGQRWDi2yE0Dl0CLb+X4UQARWDi2ynRVA0SLb+X5qFkDwp8ZLN4kXQLx0kxgEVhhAzczMzMxMGUCamZmZmRkaQGZmZmZm5hpAMzMzMzOzG0CkcD0K1yMdQML1KFyPQh5Aj8L1KFwPH0ApXI\\u002fC9WggQPYoXI\\u002fCNSFAXI\\u002fC9SicIUCuR+F6FO4hQBSuR+F6VCJAexSuR+G6IkDNzMzMzAwjQHE9CtejsCNA7FG4HoUrJEBmZmZmZqYkQLgehetR+CRASOF6FK6HJUDXo3A9ChcmQFK4HoXrkSZAQDVeukkMJ0DjpZvEILAnQF66SQwCKyhAAiuHFtnOKEBU46WbxCApQIXrUbgexSlAKVyPwvVoKkDhehSuRyErQEjhehSuhytAw\\u002fUoXI8CLEBSuB6F65EsQPYoXI\\u002fCNS1AcT0K16OwLUApXI\\u002fC9WguQKRwPQrX4y5AH4XrUbheL0DhehSuRwEwQClcj8L1SDBAUrgehetxMEB7FK5H4ZowQM3MzMzM7DBACtejcD0qMUBmZmZmZoYxQI\\u002fC9ShcrzFAw\\u002fUoXI\\u002fiMUAv3SQGgRUyQFg5tMh2PjJAoBov3SSGMkDJdr6fGq8yQPLSTWIQ2DJATmIQWDk0M0BmZmZmZoYzQMP1KFyP4jNACtejcD0qNEBmZmZmZoY0QI\\u002fC9ShcrzRA16NwPQr3NEAUrkfhejQ1QHsUrkfhmjVApHA9CtfDNUDsUbgehQs2QD0K16NwXTZAexSuR+GaNkDsUbgehQs3QClcj8L1SDdAZmZmZmaGN0C4HoXrUdg3QOF6FK5HAThAFK5H4Xo0OEBSuB6F63E4QJqZmZmZuThAEFg5tMj2OEBEi2zn+yk5QHe+nxovXTlAqvHSTWKQOUDy0k1iENg5QPYoXI\\u002fCFTpAKVyPwvVIOkBSuB6F63E6QI\\u002fC9ShcrzpAzczMzMzsOkAK16NwPSo7QFK4HoXrcTtAhetRuB6lO0DXo3A9Cvc7QB+F61G4PjxAcT0K16OQPECamZmZmbk8QOF6FK5HAT1AMzMzMzNTPUBcj8L1KHw9QJqZmZmZuT1AzczMzMzsPUAAAAAAACA+QDMzMzMzUz5AhetRuB6lPkDNzMzMzOw+QDMzMzMzUz9AXI\\u002fC9Sh8P0DdJAaBlcM\\u002fQI2XbhKDAEBAO99PjZcuQEBcj8L1KGxAQI\\u002fC9Shcn0BAMzMzMzPDQEDNzMzMzNxAQGZmZmZm9kBAexSuR+EKQUAfhetRuC5BQMP1KFyPUkFA4XoUrkdxQUB7FK5H4YpBQI\\u002fC9Shcn0FAKVyPwvW4QUDNzMzMzNxBQHE9CtejAEJAFK5H4XokQkApXI\\u002fC9ThCQEjhehSuV0JAZmZmZmZ2QkAfhetRuK5CQDMzMzMzw0JAUrgehevhQkBxPQrXowBDQDvfT42XLkNAUI2XbhJDQ0B56SYxCGxDQPYoXI\\u002fChUNAKVyPwvW4Q0A9CtejcM1DQOF6FK5H8UNAFK5H4XokREApXI\\u002fC9ThEQM3MzMzMXERA9ihcj8KFREAUrkfheqREQDMzMzMzw0RAUrgehevhREAAAAAAABBFQClcj8L1OEVA16NwPQpnRUDsUbgehXtFQAAAAAAAkEVApHA9CtezRUBSuB6F6+FFQOxRuB6F+0VAj8L1KFwfRkApXI\\u002fC9ThGQD0K16NwTUZAjZduEoOARkAnMQisHJpGQEjhehSu10ZA9ihcj8IFR0AUrkfheiRHQDMzMzMzQ0dAzczMzMxcR0CF61G4HpVHQClcj8L1uEdAPQrXo3DNR0Bcj8L1KOxHQHE9CtejAEhAH4XrUbguSEA9CtejcE1IQFK4HoXrYUhAhetRuB6VSEApXI\\u002fC9bhIQNejcD0K50hAexSuR+EKSUAfhetRuC5JQLgehetRSElAzczMzMxcSUDsUbgehXtJQK5H4XoUvklA6SYxCKzcSUCDwMqhRfZJQIXrUbgeFUpApHA9CtczSkDNzMzMzFxKQOxRuB6Fe0pAj8L1KFyfSkCuR+F6FL5KQMP1KFyP0kpA4XoUrkfxSkD2KFyPwgVLQJqZmZmZKUtAUrgehethS0BmZmZmZnZLQAAAAAAAkEtAmpmZmZmpS0A9CtejcM1LQNejcD0K50tAcT0K16MATECamZmZmSlMQD0K16NwTUxAXI\\u002fC9ShsTEAK16NwPZpMQClcj8L1uExA16NwPQrnTEAK16NwPRpNQMuhRbbzPU1AUrgehethTUD2KFyPwoVNQI\\u002fC9Shcn01AKVyPwvW4TUBI4XoUrtdNQOF6FK5H8U1AhetRuB4VTkAfhetRuC5OQDMzMzMzQ05AZmZmZmZ2TkAK16NwPZpOQClcj8L1uE5AUrgehevhTkBxPQrXowBPQClcj8L1OE9AUrgehethT0B7FK5H4YpPQKRwPQrXs09ASOF6FK7XT0A9CtejcAVQQEjhehSuD1BAmpmZmZkhUEBmZmZmZi5QQDMzMzMzO1BA0SLb+X5KUEBcj8L1KGRQQPYoXI\\u002fCfVBAhetRuB6NUEDXo3A9Cp9QQKRwPQrXq1BAPQrXo3DFUEAUrkfhetxQQB+F61G45lBAKVyPwvXwUEAAAAAAAAhRQI\\u002fC9ShcF1FAH4XrUbgmUUDsUbgehTNRQLgehetRQFFASOF6FK5PUUAUrkfhelxRQGZmZmZmblFAcT0K16N4UUCPwvUoXJdRQGZmZmZmrlFAcT0K16O4UUA9CtejcMVRQM3MzMzM1FFAZmZmZmbuUUC4HoXrUQBSQIXrUbgeDVJAFK5H4XocUkBmZmZmZi5SQDMzMzMzO1JAPQrXo3BFUkDNzMzMzFRSQJqZmZmZYVJAZmZmZmZuUkB7FK5H4YJSQI\\u002fC9Shcl1JAH4XrUbimUkApXI\\u002fC9bBSQPYoXI\\u002fCvVJAzczMzMzUUkCkcD0K1+tSQPYoXI\\u002fC\\u002fVJACtejcD0SU0Bcj8L1KCRTQOxRuB6FM1NAAAAAAABIU0DXo3A9Cl9TQKRwPQrXa1NAuB6F61GAU0BI4XoUro9TQB+F61G4plNAKVyPwvWwU0DD9Shcj8pTQFK4HoXr2VNA7FG4HoXzU0DD9ShcjwpUQM3MzMzMFFRA4XoUrkcpVEDsUbgehTNUQLgehetRQFRASOF6FK5PVEAUrkfhelxUQB+F61G4ZlRArkfhehR2VEA9CtejcIVUQFyPwvUopFRAH4XrUbjmVEBxPQrXo\\u002fhUQHsUrkfhAlVAzczMzMwUVUCamZmZmSFVQClcj8L1MFVAuB6F61FAVUDNzMzMzFRVQB+F61G4ZlVAMzMzMzN7VUAAAAAAAIhVQBSuR+F6nFVA4XoUrkepVUB7FK5H4cJVQEjhehSuz1VA16NwPQrfVUApXI\\u002fC9fBVQLgehetRAFZAzczMzMwUVkAfhetRuCZWQHE9CtejOFZAexSuR+FCVkCPwvUoXFdWQB+F61G4ZlZAMzMzMzN7VkAK16NwPZJWQFyPwvUopFZA7FG4HoWzVkBI4XoUrs9WQFyPwvUo5FZAGy\\u002fdJAbxVkAlBoGVQ\\u002ftWQAAAAAAACFdAFK5H4XocV0CuR+F6FDZXQArXo3A9UldA16NwPQpfV0AzMzMzM3tXQD0K16NwhVdAUrgeheuZV0CkcD0K16tXQD0K16NwxVdA\"},\"xaxis\":\"x\",\"y\":{\"dtype\":\"f8\",\"bdata\":\"AFChKeZVsT8AwKeXTEKKvwA4t0LImLs\\u002fACYafOhi2D8AiDq9ONDQPwDWdFlw6tC\\u002fACAlgd304L8A\\u002fFQDHOzOPwA4DHT1crg\\u002fAJB4XEp8oz8AiObNpvPBPwAgG3\\u002flXsy\\u002fAN9aK+wf4j8AlP6nlDvKvwD8Fm1oAco\\u002fAEhFDqqss78AuF+y6G3UPwA0nnO108M\\u002fAPqS3q7f3L8AQj6QCi7UPwDA+ePtF86\\u002fAI5haX730D8AwD1gthuwvwAADKb2ZYw\\u002fABTEBKkB3D8AhkvmBrbevwAMeDgAgd8\\u002fAHb0omoV1b8ALAcrK9fEvwAWTihrENe\\u002fAO6GC2yX0j8AP9e3y+TwvwBlgdfir+O\\u002fgEPORpv1A8CAopE+9\\u002fkOwFAxcnjJviPAAOQx7hZz0b+gopvHQlgVwLAYQYdDqC3A+IbH0ZjJKcBk+ZvZ8wMwwEC1yCnv4ivAOPQRzzOYLMD0ZWvjm2MxwGi047Qg1x\\u002fAdN+isO\\u002fLIcCAdMXuHVvXPxBLfqvm2Q3AABBaiX758L\\u002fAitslTJn9vwAh516ivwJAYEhPwKZGEUDQ8YfHW3wiQKjKPaZixSJAsLv1pXmrHUBA\\u002fRsbBvAnQLDZ0X8UgyZAQMgqpoIZ\\u002fT+gbPgF4XcEQOCAQZgQLg5AwJHD7Ovo8j\\u002fAa3BJ\\u002f+sDwChZ\\u002f4E4mCfAgLm4jtsb9r8ACLVs+MsLwID542NaogDA4IyQt21oAsAAH9ukbgwOwOAdnvx\\u002fTQPAADKtAu562D8AvoId9g\\u002fiPwDgM0zOdoo\\u002fAHi\\u002f+yyor78AEFAby6bIvwDq714Kg92\\u002fAB5IItSF4D8A6RMzruLTPwCANYtzw7g\\u002fAEBHq9nuoj8AaDgrZee3vwAEcutYasa\\u002fANmksMk83T8AiMkfiXDHPwCQAD9hAr0\\u002fAAAAAAAAAAAA2ARh4cm0PwCqj8GY7sY\\u002fAIIq4NWHwj8AoPB8PI6xPwCYwICvZMy\\u002fwOJsaiIf9b\\u002fg52YhWMcUwPB\\u002fif2jiRfAkJsztElEFcBgmSn+DZAewFylYn0CfiLAsXoL6YJUM8DHzOtqfvo1wMCEFsURLcs\\u002fnqyXq760B8B5bthJMtsiQFqGdWKoISVA8ArVEL5vDkDsY2WlU6QeQIAzjKr\\u002f0eA\\u002faEIlQK+OHkBgwYXyWPb2P+BH4vHS6RVAAA0kMSDaD0AgLOb717r6PwAtFEbn8uY\\u002fwFzvxC\\u002fy4b\\u002fAsZIB8lbjvwC4novnLf2\\u002fwDew+W47A8BgFxZcEXYQwAAZLKXihOy\\u002fMCoamGxSE8Cgxexr44v+v4BFTqypgA\\u002fAQEzjEG2Z4r84Jj\\u002fQB9ECwEgGwFmcUg1AAPiDpmeSGUCQNCGDDN4cQPDDlW35pB1A1Hz4vLHvKUCc5jv49u4wQCBsuAyvnhZAoNLWkCV6AsAgU3yn3hgFwCByWe7g5BjAwIT0HixUDsDguLalAmscwEDKTs6tfBvAoEQiHi8WGsCY3X+UtD0hwGCtSgrjHhPA+JjjsObCEMCwNdlaMWMNwIBpprZvdwDAsJBTNTey+r9ANRjeXBPdvwC5iqkgN7M\\u002feHqWCyTCAUBgYTdd2v0MQDDCsQSsWQVAIMQ6LpJL\\u002fz+AU9JI\\u002f+sZQKibBp5wEi5A0DHTsQakKEDw5uoB4k4uQDjFH3ivniZAkPSHIVMEOUDArgqrigYwQCCPumaSkB1AgMkfjMY7G0AAQbdDHagWQIAc3Ukt+w1AgEmlrxaMIEBAZ264tZEFQAC0TYy0BuQ\\u002fgCpyeuBu878AeYaaDeIEwABMFRiv+QDAgNxXilQb+r8AsoxRg4DzvwBCLYGBA9U\\u002fAKgq4kp2sL8AlrQjDA3TPwA2sybJjNa\\u002fAHcmLzuz7L8ADhT8hFHevwDGtskgjN4\\u002fACgfBzV+7z+AvCj6Ahr0PwBuFFRViOw\\u002fwPr2d56UBkDAFR+yrhQHQECMT9ODtAJAIINeErvdE8BQLNletkIjwEAF2tdIbh\\u002fAoAhWCfEREMCgDsFFPg8XwEDHAgJdTBvAwHggXxjHFMBQw4TxyoggwMA57B6HExfAYOODYtLSJsDUVfNy9TswwOzfJusYvzrALobqfp2wNMBsZM9YBHgpwMp3VNU9YCPAGDe6tQxxDsA436WcoW0TwMSePKVXgQHASECsXVx5BMD0RAFWuPoAwKBnIR2Utt+\\u002fBFfJD3Iy9r+QltkhUcnhP5yfyZSjXvO\\u002fAK05D8rlw79YjZpNOx7lvzqpwbuAqvC\\u002foE5uEJrEuT+o5uyvbB\\u002fRP4QuK5Te0+O\\u002fgM9mI2btvj+A\\u002fwvZbwSzvwDlLwrEc7a\\u002f6OPknalx2b94qL15aqrOv7zGMx47wdc\\u002flCjMrKW52r+Y1NSYV0fEPyBNpSnhTMw\\u002fwGlpTgHavD\\u002fg4dqGSQbkv2ha7c7BCMc\\u002f6MV37iS6y7\\u002fYPAwgAsPGP46Td\\u002fi3OuQ\\u002fkCn+vyrP078YPJzYh4rgvzxW00J70Og\\u002fAMDyQQRvw7+AWDqxhIjMv4BYOrGEiMw\\u002f4OsBUlnrs79wbQ8pXhnaP7BqClYv+eC\\u002fgEQXKm7Ck7\\u002f8pIHLW5v7v+QEc80nTgJAFrHms\\u002fVnGkC2WkL84vsTQIAZdZq9JSpAHcktyuCyMUBwq9FZEXcvQITSFLIOoSFAAMcpoezOIEBwTGv0b00nQNB9zLBPxyFAAJmQbcgyGkCgEygj\\u002fEYVQMA4lY57WxpAcOSld\\u002fHaEEDAsDySC08lQMB88a9dOhhA0P0q60xhIUBAAVmXWUUKQOCIEpVVghFAQLwtquIkD0AA49G4lUbvP0Aoh2PPWwPAADG\\u002fOprODsAgQhZQtiMVwEDf7O3hKBXAgEKV6OalGcDgrCZb+3scwNC84kZtVRjAkH5iQGpBG8CA752FXG\\u002fvvzgxPeCSgiTAwFtA1gPYG8Ds6UwEbkEwwLCg7KyxZhTA+GGFYyTAI8AAGjGMmvzDv3AQ4V5V9ALAQH0QohRa4z8AZVdmKrLsPyA9+0BIqPu\\u002fUG9T7keRD8CYjwDTKjgXwABjOpEsyhTAuKm3YUS4HsCABveHanYfwL73lLai\\u002fCPAxT5gkXIDIMDQpQhqIS0kwMgyT5YySuC\\u002fakB\\u002fauG7JkDhBMokSmYgQJgIgNIuIglActAfzIfPLECgi4RKfE0TQOBtqEZjUx1AkPUGTeybDUDgO7g\\u002fLpwLQAA+bW5Vztc\\u002fAK2TGFRfzj8A+Ksi+7vGP8DooCK0KuA\\u002fAD\\u002fQ3gWv47+ATIwULgvhvwCwvPVU88q\\u002fAAzAJ2Kvzz8Aqsh\\u002fgdTYv4C95kEKeN+\\u002fANLqBjMasD8ALO7t3rrBvwDUvmps2sY\\u002fgFgK5e+c0L8ANK0DGwq9vwDY86cWTs4\\u002fgF+j7Mxm07+AhBX9ts3pPwCKCwc9zuW\\u002fAMSC\\u002f5cVyL+ANxoSusrRPwAszAt+V7o\\u002fANU\\u002fkGE+1r+AZoXvTcjQvwC74mOYVsO\\u002fAJL\\u002fovKftj8AnMONlf2yPwA8vLY84Ks\\u002fABDoU7C6wT+AdZm2+x3oPzAWSlkx4wNA4Es47EtBG0DQG\\u002f1k0DkaQOAo+GmIuRhAQP5wR+D8HUBQ30NPfAMrQEg2zHA6VzNAmMTa6Mu5IUAwp4ftSjokQIBp4uYjM\\u002f4\\u002foKEZLiEGFEBAEzWUc+8YQCCV7+6kuBpAgMmH+O0+9D8gSaxP4bQZQCBQJMKr2RFA4E5xBvOOEkAAQBUmbdeXv4AlC59Dg\\u002fC\\u002fANYvFaLt378AECKsm\\u002fu4PwDwVuusvrw\\u002fACiKNMbPwj8AKIo0xs\\u002fCvwDQRuCHruc\\u002fAEYoC9vP178AiIyyYu\\u002fMvwAgNkjBB6C\\u002fAL5hnFor0z8AgLXWfCG2vwB4nHNpTdY\\u002fADJNTlti1L8AICsJV8m\\u002fPwA4qTak4rC\\u002f\"},\"yaxis\":\"y\",\"type\":\"scatter\"}],                        {\"template\":{\"data\":{\"histogram2dcontour\":[{\"type\":\"histogram2dcontour\",\"colorbar\":{\"outlinewidth\":0,\"ticks\":\"\"},\"colorscale\":[[0.0,\"#0d0887\"],[0.1111111111111111,\"#46039f\"],[0.2222222222222222,\"#7201a8\"],[0.3333333333333333,\"#9c179e\"],[0.4444444444444444,\"#bd3786\"],[0.5555555555555556,\"#d8576b\"],[0.6666666666666666,\"#ed7953\"],[0.7777777777777778,\"#fb9f3a\"],[0.8888888888888888,\"#fdca26\"],[1.0,\"#f0f921\"]]}],\"choropleth\":[{\"type\":\"choropleth\",\"colorbar\":{\"outlinewidth\":0,\"ticks\":\"\"}}],\"histogram2d\":[{\"type\":\"histogram2d\",\"colorbar\":{\"outlinewidth\":0,\"ticks\":\"\"},\"colorscale\":[[0.0,\"#0d0887\"],[0.1111111111111111,\"#46039f\"],[0.2222222222222222,\"#7201a8\"],[0.3333333333333333,\"#9c179e\"],[0.4444444444444444,\"#bd3786\"],[0.5555555555555556,\"#d8576b\"],[0.6666666666666666,\"#ed7953\"],[0.7777777777777778,\"#fb9f3a\"],[0.8888888888888888,\"#fdca26\"],[1.0,\"#f0f921\"]]}],\"heatmap\":[{\"type\":\"heatmap\",\"colorbar\":{\"outlinewidth\":0,\"ticks\":\"\"},\"colorscale\":[[0.0,\"#0d0887\"],[0.1111111111111111,\"#46039f\"],[0.2222222222222222,\"#7201a8\"],[0.3333333333333333,\"#9c179e\"],[0.4444444444444444,\"#bd3786\"],[0.5555555555555556,\"#d8576b\"],[0.6666666666666666,\"#ed7953\"],[0.7777777777777778,\"#fb9f3a\"],[0.8888888888888888,\"#fdca26\"],[1.0,\"#f0f921\"]]}],\"contourcarpet\":[{\"type\":\"contourcarpet\",\"colorbar\":{\"outlinewidth\":0,\"ticks\":\"\"}}],\"contour\":[{\"type\":\"contour\",\"colorbar\":{\"outlinewidth\":0,\"ticks\":\"\"},\"colorscale\":[[0.0,\"#0d0887\"],[0.1111111111111111,\"#46039f\"],[0.2222222222222222,\"#7201a8\"],[0.3333333333333333,\"#9c179e\"],[0.4444444444444444,\"#bd3786\"],[0.5555555555555556,\"#d8576b\"],[0.6666666666666666,\"#ed7953\"],[0.7777777777777778,\"#fb9f3a\"],[0.8888888888888888,\"#fdca26\"],[1.0,\"#f0f921\"]]}],\"surface\":[{\"type\":\"surface\",\"colorbar\":{\"outlinewidth\":0,\"ticks\":\"\"},\"colorscale\":[[0.0,\"#0d0887\"],[0.1111111111111111,\"#46039f\"],[0.2222222222222222,\"#7201a8\"],[0.3333333333333333,\"#9c179e\"],[0.4444444444444444,\"#bd3786\"],[0.5555555555555556,\"#d8576b\"],[0.6666666666666666,\"#ed7953\"],[0.7777777777777778,\"#fb9f3a\"],[0.8888888888888888,\"#fdca26\"],[1.0,\"#f0f921\"]]}],\"mesh3d\":[{\"type\":\"mesh3d\",\"colorbar\":{\"outlinewidth\":0,\"ticks\":\"\"}}],\"scatter\":[{\"fillpattern\":{\"fillmode\":\"overlay\",\"size\":10,\"solidity\":0.2},\"type\":\"scatter\"}],\"parcoords\":[{\"type\":\"parcoords\",\"line\":{\"colorbar\":{\"outlinewidth\":0,\"ticks\":\"\"}}}],\"scatterpolargl\":[{\"type\":\"scatterpolargl\",\"marker\":{\"colorbar\":{\"outlinewidth\":0,\"ticks\":\"\"}}}],\"bar\":[{\"error_x\":{\"color\":\"#2a3f5f\"},\"error_y\":{\"color\":\"#2a3f5f\"},\"marker\":{\"line\":{\"color\":\"#E5ECF6\",\"width\":0.5},\"pattern\":{\"fillmode\":\"overlay\",\"size\":10,\"solidity\":0.2}},\"type\":\"bar\"}],\"scattergeo\":[{\"type\":\"scattergeo\",\"marker\":{\"colorbar\":{\"outlinewidth\":0,\"ticks\":\"\"}}}],\"scatterpolar\":[{\"type\":\"scatterpolar\",\"marker\":{\"colorbar\":{\"outlinewidth\":0,\"ticks\":\"\"}}}],\"histogram\":[{\"marker\":{\"pattern\":{\"fillmode\":\"overlay\",\"size\":10,\"solidity\":0.2}},\"type\":\"histogram\"}],\"scattergl\":[{\"type\":\"scattergl\",\"marker\":{\"colorbar\":{\"outlinewidth\":0,\"ticks\":\"\"}}}],\"scatter3d\":[{\"type\":\"scatter3d\",\"line\":{\"colorbar\":{\"outlinewidth\":0,\"ticks\":\"\"}},\"marker\":{\"colorbar\":{\"outlinewidth\":0,\"ticks\":\"\"}}}],\"scattermap\":[{\"type\":\"scattermap\",\"marker\":{\"colorbar\":{\"outlinewidth\":0,\"ticks\":\"\"}}}],\"scattermapbox\":[{\"type\":\"scattermapbox\",\"marker\":{\"colorbar\":{\"outlinewidth\":0,\"ticks\":\"\"}}}],\"scatterternary\":[{\"type\":\"scatterternary\",\"marker\":{\"colorbar\":{\"outlinewidth\":0,\"ticks\":\"\"}}}],\"scattercarpet\":[{\"type\":\"scattercarpet\",\"marker\":{\"colorbar\":{\"outlinewidth\":0,\"ticks\":\"\"}}}],\"carpet\":[{\"aaxis\":{\"endlinecolor\":\"#2a3f5f\",\"gridcolor\":\"white\",\"linecolor\":\"white\",\"minorgridcolor\":\"white\",\"startlinecolor\":\"#2a3f5f\"},\"baxis\":{\"endlinecolor\":\"#2a3f5f\",\"gridcolor\":\"white\",\"linecolor\":\"white\",\"minorgridcolor\":\"white\",\"startlinecolor\":\"#2a3f5f\"},\"type\":\"carpet\"}],\"table\":[{\"cells\":{\"fill\":{\"color\":\"#EBF0F8\"},\"line\":{\"color\":\"white\"}},\"header\":{\"fill\":{\"color\":\"#C8D4E3\"},\"line\":{\"color\":\"white\"}},\"type\":\"table\"}],\"barpolar\":[{\"marker\":{\"line\":{\"color\":\"#E5ECF6\",\"width\":0.5},\"pattern\":{\"fillmode\":\"overlay\",\"size\":10,\"solidity\":0.2}},\"type\":\"barpolar\"}],\"pie\":[{\"automargin\":true,\"type\":\"pie\"}]},\"layout\":{\"autotypenumbers\":\"strict\",\"colorway\":[\"#636efa\",\"#EF553B\",\"#00cc96\",\"#ab63fa\",\"#FFA15A\",\"#19d3f3\",\"#FF6692\",\"#B6E880\",\"#FF97FF\",\"#FECB52\"],\"font\":{\"color\":\"#2a3f5f\"},\"hovermode\":\"closest\",\"hoverlabel\":{\"align\":\"left\"},\"paper_bgcolor\":\"white\",\"plot_bgcolor\":\"#E5ECF6\",\"polar\":{\"bgcolor\":\"#E5ECF6\",\"angularaxis\":{\"gridcolor\":\"white\",\"linecolor\":\"white\",\"ticks\":\"\"},\"radialaxis\":{\"gridcolor\":\"white\",\"linecolor\":\"white\",\"ticks\":\"\"}},\"ternary\":{\"bgcolor\":\"#E5ECF6\",\"aaxis\":{\"gridcolor\":\"white\",\"linecolor\":\"white\",\"ticks\":\"\"},\"baxis\":{\"gridcolor\":\"white\",\"linecolor\":\"white\",\"ticks\":\"\"},\"caxis\":{\"gridcolor\":\"white\",\"linecolor\":\"white\",\"ticks\":\"\"}},\"coloraxis\":{\"colorbar\":{\"outlinewidth\":0,\"ticks\":\"\"}},\"colorscale\":{\"sequential\":[[0.0,\"#0d0887\"],[0.1111111111111111,\"#46039f\"],[0.2222222222222222,\"#7201a8\"],[0.3333333333333333,\"#9c179e\"],[0.4444444444444444,\"#bd3786\"],[0.5555555555555556,\"#d8576b\"],[0.6666666666666666,\"#ed7953\"],[0.7777777777777778,\"#fb9f3a\"],[0.8888888888888888,\"#fdca26\"],[1.0,\"#f0f921\"]],\"sequentialminus\":[[0.0,\"#0d0887\"],[0.1111111111111111,\"#46039f\"],[0.2222222222222222,\"#7201a8\"],[0.3333333333333333,\"#9c179e\"],[0.4444444444444444,\"#bd3786\"],[0.5555555555555556,\"#d8576b\"],[0.6666666666666666,\"#ed7953\"],[0.7777777777777778,\"#fb9f3a\"],[0.8888888888888888,\"#fdca26\"],[1.0,\"#f0f921\"]],\"diverging\":[[0,\"#8e0152\"],[0.1,\"#c51b7d\"],[0.2,\"#de77ae\"],[0.3,\"#f1b6da\"],[0.4,\"#fde0ef\"],[0.5,\"#f7f7f7\"],[0.6,\"#e6f5d0\"],[0.7,\"#b8e186\"],[0.8,\"#7fbc41\"],[0.9,\"#4d9221\"],[1,\"#276419\"]]},\"xaxis\":{\"gridcolor\":\"white\",\"linecolor\":\"white\",\"ticks\":\"\",\"title\":{\"standoff\":15},\"zerolinecolor\":\"white\",\"automargin\":true,\"zerolinewidth\":2},\"yaxis\":{\"gridcolor\":\"white\",\"linecolor\":\"white\",\"ticks\":\"\",\"title\":{\"standoff\":15},\"zerolinecolor\":\"white\",\"automargin\":true,\"zerolinewidth\":2},\"scene\":{\"xaxis\":{\"backgroundcolor\":\"#E5ECF6\",\"gridcolor\":\"white\",\"linecolor\":\"white\",\"showbackground\":true,\"ticks\":\"\",\"zerolinecolor\":\"white\",\"gridwidth\":2},\"yaxis\":{\"backgroundcolor\":\"#E5ECF6\",\"gridcolor\":\"white\",\"linecolor\":\"white\",\"showbackground\":true,\"ticks\":\"\",\"zerolinecolor\":\"white\",\"gridwidth\":2},\"zaxis\":{\"backgroundcolor\":\"#E5ECF6\",\"gridcolor\":\"white\",\"linecolor\":\"white\",\"showbackground\":true,\"ticks\":\"\",\"zerolinecolor\":\"white\",\"gridwidth\":2}},\"shapedefaults\":{\"line\":{\"color\":\"#2a3f5f\"}},\"annotationdefaults\":{\"arrowcolor\":\"#2a3f5f\",\"arrowhead\":0,\"arrowwidth\":1},\"geo\":{\"bgcolor\":\"white\",\"landcolor\":\"#E5ECF6\",\"subunitcolor\":\"white\",\"showland\":true,\"showlakes\":true,\"lakecolor\":\"white\"},\"title\":{\"x\":0.05},\"mapbox\":{\"style\":\"light\"}}},\"xaxis\":{\"anchor\":\"y\",\"domain\":[0.0,1.0],\"title\":{\"text\":\"Time\"}},\"yaxis\":{\"anchor\":\"x\",\"domain\":[0.0,1.0],\"title\":{\"text\":\"DeltaBaseAngle\"}},\"coloraxis\":{\"colorbar\":{\"title\":{\"text\":\"Speed\"}},\"colorscale\":[[0.0,\"#0d0887\"],[0.1111111111111111,\"#46039f\"],[0.2222222222222222,\"#7201a8\"],[0.3333333333333333,\"#9c179e\"],[0.4444444444444444,\"#bd3786\"],[0.5555555555555556,\"#d8576b\"],[0.6666666666666666,\"#ed7953\"],[0.7777777777777778,\"#fb9f3a\"],[0.8888888888888888,\"#fdca26\"],[1.0,\"#f0f921\"]]},\"legend\":{\"tracegroupgap\":0},\"margin\":{\"t\":60},\"plot_bgcolor\":\"#2D2D2D\",\"paper_bgcolor\":\"#2D2D2D\"},                        {\"responsive\": true}                    )                };            </script>        </div>"
      ],
      "text/plain": [
       "Figure({\n",
       "    'data': [{'hovertemplate': 'Time=%{x}<br>DeltaBaseAngle=%{y}<br>Speed=%{marker.color}<extra></extra>',\n",
       "              'legendgroup': '',\n",
       "              'marker': {'color': {'bdata': ('GQEbARwBHwEgASABIgEiASQBJAElAS' ... 'DyAPgA+QACAQYBCAEOAQ8BEgEUARcB'),\n",
       "                                   'dtype': 'i2'},\n",
       "                         'coloraxis': 'coloraxis',\n",
       "                         'symbol': 'circle'},\n",
       "              'mode': 'markers',\n",
       "              'name': '',\n",
       "              'orientation': 'v',\n",
       "              'showlegend': False,\n",
       "              'type': 'scatter',\n",
       "              'x': {'bdata': ('w/UoXI/CtT9cj8L1KFzXP1yPwvUoXO' ... 'geheuZV0CkcD0K16tXQD0K16NwxVdA'),\n",
       "                    'dtype': 'f8'},\n",
       "              'xaxis': 'x',\n",
       "              'y': {'bdata': ('AFChKeZVsT8AwKeXTEKKvwA4t0LImL' ... 'JNTlti1L8AICsJV8m/PwA4qTak4rC/'),\n",
       "                    'dtype': 'f8'},\n",
       "              'yaxis': 'y'}],\n",
       "    'layout': {'coloraxis': {'colorbar': {'title': {'text': 'Speed'}},\n",
       "                             'colorscale': [[0.0, '#0d0887'], [0.1111111111111111,\n",
       "                                            '#46039f'], [0.2222222222222222,\n",
       "                                            '#7201a8'], [0.3333333333333333,\n",
       "                                            '#9c179e'], [0.4444444444444444,\n",
       "                                            '#bd3786'], [0.5555555555555556,\n",
       "                                            '#d8576b'], [0.6666666666666666,\n",
       "                                            '#ed7953'], [0.7777777777777778,\n",
       "                                            '#fb9f3a'], [0.8888888888888888,\n",
       "                                            '#fdca26'], [1.0, '#f0f921']]},\n",
       "               'legend': {'tracegroupgap': 0},\n",
       "               'margin': {'t': 60},\n",
       "               'paper_bgcolor': '#2D2D2D',\n",
       "               'plot_bgcolor': '#2D2D2D',\n",
       "               'template': '...',\n",
       "               'xaxis': {'anchor': 'y', 'domain': [0.0, 1.0], 'title': {'text': 'Time'}},\n",
       "               'yaxis': {'anchor': 'x', 'domain': [0.0, 1.0], 'title': {'text': 'DeltaBaseAngle'}}}\n",
       "})"
      ]
     },
     "execution_count": 110,
     "metadata": {},
     "output_type": "execute_result"
    }
   ],
   "source": [
    "speed_plot = px.scatter(speed_data_graph, x=\"Time\", y=\"DeltaBaseAngle\", color=\"Speed\")\n",
    "\n",
    "speed_plot.update_layout(\n",
    "    plot_bgcolor=\"#2D2D2D\",\n",
    "    paper_bgcolor=\"#2D2D2D\",\n",
    ")\n",
    "\n",
    "speed_plot"
   ]
  }
 ],
 "metadata": {
  "kernelspec": {
   "display_name": ".venv",
   "language": "python",
   "name": "python3"
  },
  "language_info": {
   "codemirror_mode": {
    "name": "ipython",
    "version": 3
   },
   "file_extension": ".py",
   "mimetype": "text/x-python",
   "name": "python",
   "nbconvert_exporter": "python",
   "pygments_lexer": "ipython3",
   "version": "3.11.0"
  }
 },
 "nbformat": 4,
 "nbformat_minor": 2
}
